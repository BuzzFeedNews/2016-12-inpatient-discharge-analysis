{
 "cells": [
  {
   "cell_type": "markdown",
   "metadata": {},
   "source": [
    "# Analysis of Inpatient Psychiatric Discharge Rates In Florida and California"
   ]
  },
  {
   "cell_type": "code",
   "execution_count": 1,
   "metadata": {
    "collapsed": true
   },
   "outputs": [],
   "source": [
    "import pandas as pd\n",
    "import glob\n",
    "import os\n",
    "%matplotlib inline"
   ]
  },
  {
   "cell_type": "markdown",
   "metadata": {},
   "source": [
    "## Load Florida data"
   ]
  },
  {
   "cell_type": "markdown",
   "metadata": {},
   "source": [
    "### Identify hospitals licensed to receive Baker Act patients"
   ]
  },
  {
   "cell_type": "code",
   "execution_count": 2,
   "metadata": {
    "collapsed": false
   },
   "outputs": [
    {
     "data": {
      "text/plain": [
       "84"
      ]
     },
     "execution_count": 2,
     "metadata": {},
     "output_type": "execute_result"
    }
   ],
   "source": [
    "FL_AHCA_NUM_COL = \"AHCA Number (File Number)\"\n",
    "fl_baker_act_facilities = pd.read_csv(\"../data/fl/ahca-baker-act-hospitals.csv\")\\\n",
    "    .pipe(lambda x: x[x[\"Facility Type\"].notnull()])\\\n",
    "    .set_index(FL_AHCA_NUM_COL)\n",
    "len(fl_baker_act_facilities)"
   ]
  },
  {
   "cell_type": "markdown",
   "metadata": {},
   "source": [
    "### Identify UHS-owned hospitals"
   ]
  },
  {
   "cell_type": "code",
   "execution_count": 3,
   "metadata": {
    "collapsed": true
   },
   "outputs": [],
   "source": [
    "FL_UHS_AHCA_IDS = [\n",
    "    110068, # Atlantic Shores Hospital \n",
    "    23960083, # Central Florida Behavioral Hospital \n",
    "    110034, # Emerald Coast Behavioral Hospital \n",
    "    104026, # Fort Lauderdale Hospital \n",
    "    111520, # Gulf Coast Treatment Center \n",
    "    104016, # River Point Behavioral Health \n",
    "    110049, # Suncoast Behavioral Health Center \n",
    "    110047, # University Behavioral Center \n",
    "    23960073, # The Vines Hospital\n",
    "    23960061, # Wekiva Springs\n",
    "    104017, # Windmoor Healthcare \n",
    "]"
   ]
  },
  {
   "cell_type": "code",
   "execution_count": 4,
   "metadata": {
    "collapsed": false
   },
   "outputs": [],
   "source": [
    "fl_baker_act_facilities[\"is_uhs\"] = fl_baker_act_facilities.index.isin(FL_UHS_AHCA_IDS)"
   ]
  },
  {
   "cell_type": "markdown",
   "metadata": {},
   "source": [
    "### Load discharges"
   ]
  },
  {
   "cell_type": "code",
   "execution_count": 5,
   "metadata": {
    "collapsed": false
   },
   "outputs": [],
   "source": [
    "FL_PATH = \"~/local-only/florida-inpatient-discharges/data/ahca-data/converted/psych-only.csv\"\n",
    "fl_discharges = pd.read_csv(FL_PATH, low_memory=False, dtype={ \"ZIPCODE\": str }).set_index(\"SYS_RECID\")"
   ]
  },
  {
   "cell_type": "code",
   "execution_count": 6,
   "metadata": {
    "collapsed": false
   },
   "outputs": [
    {
     "data": {
      "text/plain": [
       "0.98176896357673726"
      ]
     },
     "execution_count": 6,
     "metadata": {},
     "output_type": "execute_result"
    }
   ],
   "source": [
    "fl_discharges[\"FACLNBR\"].isin(fl_baker_act_facilities.index).mean()"
   ]
  },
  {
   "cell_type": "markdown",
   "metadata": {},
   "source": [
    "### Combine data, restricting to Baker Act–licensed hospitals"
   ]
  },
  {
   "cell_type": "code",
   "execution_count": 7,
   "metadata": {
    "collapsed": true
   },
   "outputs": [],
   "source": [
    "fl_discharges[\"dschyear\"] = fl_discharges[\"YEAR\"].astype(int)"
   ]
  },
  {
   "cell_type": "code",
   "execution_count": 8,
   "metadata": {
    "collapsed": false
   },
   "outputs": [],
   "source": [
    "fl_baker_act_discharges = pd.merge(\n",
    "    fl_discharges[fl_discharges[\"FACLNBR\"].isin(fl_baker_act_facilities.index)],\n",
    "    fl_baker_act_facilities[[ \"Name\", \"Profit Status\", \"is_uhs\" ]],\n",
    "    left_on=\"FACLNBR\",\n",
    "    right_index=True,\n",
    "    how=\"left\"\n",
    ")"
   ]
  },
  {
   "cell_type": "code",
   "execution_count": 9,
   "metadata": {
    "collapsed": false
   },
   "outputs": [
    {
     "data": {
      "text/plain": [
       "0.0"
      ]
     },
     "execution_count": 9,
     "metadata": {},
     "output_type": "execute_result"
    }
   ],
   "source": [
    "fl_baker_act_discharges[\"FACLNBR\"].isnull().mean()"
   ]
  },
  {
   "cell_type": "code",
   "execution_count": 10,
   "metadata": {
    "collapsed": false
   },
   "outputs": [
    {
     "data": {
      "text/plain": [
       "28"
      ]
     },
     "execution_count": 10,
     "metadata": {},
     "output_type": "execute_result"
    }
   ],
   "source": [
    "fl_baker_act_discharges[\"FACLNBR\"].nunique()"
   ]
  },
  {
   "cell_type": "code",
   "execution_count": 11,
   "metadata": {
    "collapsed": false
   },
   "outputs": [
    {
     "data": {
      "text/plain": [
       "202374"
      ]
     },
     "execution_count": 11,
     "metadata": {},
     "output_type": "execute_result"
    }
   ],
   "source": [
    "len(fl_baker_act_discharges)"
   ]
  },
  {
   "cell_type": "markdown",
   "metadata": {},
   "source": [
    "### Classify insurance types"
   ]
  },
  {
   "cell_type": "code",
   "execution_count": 12,
   "metadata": {
    "collapsed": true
   },
   "outputs": [],
   "source": [
    "def fl_classify_payer(code):\n",
    "    if code in [ \"L\" ]: return \"self-pay\"\n",
    "    if code in [ \"N\" ]: return \"non-payment\"\n",
    "    if code in [ \"A\", \"B\" ]: return \"Medicare\"\n",
    "    if code in [ \"C\", \"D\", \"H\", \"I\", \"J\", \"K\", \"O\" ]: return \"other public\"\n",
    "    if code in [ \"E\" ]: return \"commercial\"\n",
    "    if code in [ \"M\", \"Q\" ]: return \"other\"\n",
    "    raise ValueError(code)"
   ]
  },
  {
   "cell_type": "code",
   "execution_count": 13,
   "metadata": {
    "collapsed": true
   },
   "outputs": [],
   "source": [
    "fl_baker_act_discharges[\"insurance_type\"] = fl_baker_act_discharges[\"PAYER\"].apply(fl_classify_payer)"
   ]
  },
  {
   "cell_type": "markdown",
   "metadata": {},
   "source": [
    "### Discharges by insurance type"
   ]
  },
  {
   "cell_type": "code",
   "execution_count": 14,
   "metadata": {
    "collapsed": false
   },
   "outputs": [
    {
     "data": {
      "text/html": [
       "<div>\n",
       "<table border=\"1\" class=\"dataframe\">\n",
       "  <thead>\n",
       "    <tr style=\"text-align: right;\">\n",
       "      <th></th>\n",
       "      <th>insurance_type</th>\n",
       "      <th>commercial</th>\n",
       "      <th>self-pay</th>\n",
       "      <th>Medicare</th>\n",
       "      <th>other public</th>\n",
       "      <th>non-payment</th>\n",
       "      <th>other</th>\n",
       "    </tr>\n",
       "    <tr>\n",
       "      <th>Profit Status</th>\n",
       "      <th>is_uhs</th>\n",
       "      <th></th>\n",
       "      <th></th>\n",
       "      <th></th>\n",
       "      <th></th>\n",
       "      <th></th>\n",
       "      <th></th>\n",
       "    </tr>\n",
       "  </thead>\n",
       "  <tbody>\n",
       "    <tr>\n",
       "      <th rowspan=\"2\" valign=\"top\">For-Profit</th>\n",
       "      <th>False</th>\n",
       "      <td>9007</td>\n",
       "      <td>3732</td>\n",
       "      <td>19352</td>\n",
       "      <td>9705</td>\n",
       "      <td>560</td>\n",
       "      <td>697</td>\n",
       "    </tr>\n",
       "    <tr>\n",
       "      <th>True</th>\n",
       "      <td>29250</td>\n",
       "      <td>5613</td>\n",
       "      <td>26196</td>\n",
       "      <td>25275</td>\n",
       "      <td>2399</td>\n",
       "      <td>517</td>\n",
       "    </tr>\n",
       "    <tr>\n",
       "      <th>Not-For-Profit</th>\n",
       "      <th>False</th>\n",
       "      <td>14011</td>\n",
       "      <td>9948</td>\n",
       "      <td>18045</td>\n",
       "      <td>26343</td>\n",
       "      <td>1361</td>\n",
       "      <td>363</td>\n",
       "    </tr>\n",
       "  </tbody>\n",
       "</table>\n",
       "</div>"
      ],
      "text/plain": [
       "insurance_type         commercial  self-pay  Medicare  other public  \\\n",
       "Profit Status  is_uhs                                                 \n",
       "For-Profit     False         9007      3732     19352          9705   \n",
       "               True         29250      5613     26196         25275   \n",
       "Not-For-Profit False        14011      9948     18045         26343   \n",
       "\n",
       "insurance_type         non-payment  other  \n",
       "Profit Status  is_uhs                      \n",
       "For-Profit     False           560    697  \n",
       "               True           2399    517  \n",
       "Not-For-Profit False          1361    363  "
      ]
     },
     "execution_count": 14,
     "metadata": {},
     "output_type": "execute_result"
    }
   ],
   "source": [
    "fl_baker_act_discharges[\n",
    "    fl_baker_act_discharges[\"Profit Status\"].isin([ \"For-Profit\", \"Not-For-Profit\" ])\n",
    "].groupby([\n",
    "    \"Profit Status\", \"is_uhs\", \"insurance_type\"\n",
    "]).size().unstack()[[\n",
    "    \"commercial\",\n",
    "    \"self-pay\",\n",
    "    \"Medicare\",\n",
    "    \"other public\",\n",
    "    \"non-payment\",\n",
    "    \"other\"\n",
    "]]"
   ]
  },
  {
   "cell_type": "code",
   "execution_count": 15,
   "metadata": {
    "collapsed": true
   },
   "outputs": [],
   "source": [
    "fl_baker_act_discharges[\"state\"] = \"FL\""
   ]
  },
  {
   "cell_type": "markdown",
   "metadata": {},
   "source": [
    "## Load California data"
   ]
  },
  {
   "cell_type": "markdown",
   "metadata": {},
   "source": [
    "### Load hospital information\n",
    "\n",
    "Limit to hospitals with \"Acute Psychiatric\" license types."
   ]
  },
  {
   "cell_type": "code",
   "execution_count": 16,
   "metadata": {
    "collapsed": false
   },
   "outputs": [],
   "source": [
    "ca_hospitals = pd.read_excel(\"../data/ca/Hosp14_util_data_FINAL.xlsx\",\n",
    "    sheetname=\"Section 1-4\",\n",
    "    skiprows=range(1, 4)\n",
    ").dropna(subset=[\"OSHPD_ID\"]).pipe(lambda x: x[x[\"TYPE_LIC\"] == \"Acute Psychiatric\"])\n",
    "assert(len(ca_hospitals[\"OSHPD_ID\"]) == ca_hospitals[\"OSHPD_ID\"].nunique())"
   ]
  },
  {
   "cell_type": "code",
   "execution_count": 17,
   "metadata": {
    "collapsed": false
   },
   "outputs": [],
   "source": [
    "ca_hospitals[\"Profit Status\"] = ca_hospitals[\"TYPE_CNTRL\"].apply({\n",
    "    \"Non-Profit Corporation (incl. Church-related)\": \"Not-For-Profit\",\n",
    "    \"Investor - Corporation\": \"For-Profit\",\n",
    "    \"Investor - Limited Liability Company\": \"For-Profit\",\n",
    "    \"State\": \"Government\",\n",
    "    \"University of California\": \"Government\",\n",
    "    \"City and/or County\": \"Government\"\n",
    "}.get)"
   ]
  },
  {
   "cell_type": "markdown",
   "metadata": {},
   "source": [
    "Fix erroneous profit classifications:"
   ]
  },
  {
   "cell_type": "code",
   "execution_count": 18,
   "metadata": {
    "collapsed": true
   },
   "outputs": [],
   "source": [
    "# BHC Alhambra and Newport Bay Hospital are miscoded in the directory\n",
    "ca_hospitals.loc[(ca_hospitals[\"OSHPD_ID\"] == 106190020), \"Profit Status\"] = \"For-Profit\"\n",
    "ca_hospitals.loc[(ca_hospitals[\"OSHPD_ID\"] == 106301304), \"Profit Status\"] = \"For-Profit\""
   ]
  },
  {
   "cell_type": "markdown",
   "metadata": {},
   "source": [
    "### Identify UHS hospitals"
   ]
  },
  {
   "cell_type": "code",
   "execution_count": 19,
   "metadata": {
    "collapsed": true
   },
   "outputs": [],
   "source": [
    "CA_UHS_FACILITY_IDS = [\n",
    "    106190020, # BHC Alhambra in Rosemead, CA\n",
    "    106364050, # Canyon Ridge Hospital in Chino, CA\n",
    "    106190232, # Del Amo Hospital in Torrance, CA\n",
    "    106014034, # Fremont Hospital in Fremont, CA\n",
    "    106344021, # Heritage Oaks Hospital in Sacramento, CA\n",
    "    106342392, # Sierra Vista Hospital in Sacramento, CA\n",
    "]"
   ]
  },
  {
   "cell_type": "code",
   "execution_count": 20,
   "metadata": {
    "collapsed": true
   },
   "outputs": [],
   "source": [
    "ca_hospitals[\"is_uhs\"] = ca_hospitals[\"OSHPD_ID\"].isin(CA_UHS_FACILITY_IDS)"
   ]
  },
  {
   "cell_type": "code",
   "execution_count": 21,
   "metadata": {
    "collapsed": true
   },
   "outputs": [],
   "source": [
    "ca_hospitals[\"oshpd_id\"] = ca_hospitals[\"OSHPD_ID\"].astype(int).astype(str).str.slice(3, None)"
   ]
  },
  {
   "cell_type": "markdown",
   "metadata": {},
   "source": [
    "### Load discharges"
   ]
  },
  {
   "cell_type": "code",
   "execution_count": 22,
   "metadata": {
    "collapsed": true
   },
   "outputs": [],
   "source": [
    "CA_NUMERIC_COLS = [ \"los\", \"charge\" ]"
   ]
  },
  {
   "cell_type": "code",
   "execution_count": 23,
   "metadata": {
    "collapsed": true
   },
   "outputs": [],
   "source": [
    "def load_ca_csv(path):\n",
    "    with open(path) as f:\n",
    "        cols = f.readline().strip().split(\",\")\n",
    "    coltypes = dict((col, (int if col in CA_NUMERIC_COLS else str))\n",
    "        for col in cols)\n",
    "    df = pd.read_csv(path, dtype=coltypes)\n",
    "    return df[\n",
    "        df[\"oshpd_id\"].isin(ca_hospitals[\"oshpd_id\"])\n",
    "    ]"
   ]
  },
  {
   "cell_type": "code",
   "execution_count": 24,
   "metadata": {
    "collapsed": false
   },
   "outputs": [],
   "source": [
    "CA_BASE_PATH = os.path.expanduser(\"~/local-only/ca-inpatient-discharges/data\")\n",
    "CA_CSV_PATHS = glob.glob(CA_BASE_PATH + \"/*/DATA FOLDER/Public*/*.txt\")"
   ]
  },
  {
   "cell_type": "code",
   "execution_count": 25,
   "metadata": {
    "collapsed": false
   },
   "outputs": [],
   "source": [
    "ca_discharges = pd.concat([ load_ca_csv(path) for path in CA_CSV_PATHS ])"
   ]
  },
  {
   "cell_type": "code",
   "execution_count": 26,
   "metadata": {
    "collapsed": true
   },
   "outputs": [],
   "source": [
    "ca_discharges[\"LOSDAYS\"] = ca_discharges[\"los\"]"
   ]
  },
  {
   "cell_type": "code",
   "execution_count": 27,
   "metadata": {
    "collapsed": false
   },
   "outputs": [],
   "source": [
    "# Each discharge in the data is categorized according to \n",
    "# Medicare's “Diagnosis Related Group” (MS-DRG) classification system.\n",
    "# \n",
    "# In California's 2012 data, the field is called `MSDRG`; in 2013 and 2014, it's `msdrg`\n",
    "ca_discharges[\"MSDRG\"] = ca_discharges[\"msdrg\"].fillna(ca_discharges[\"MSDRG\"]).astype(int)"
   ]
  },
  {
   "cell_type": "code",
   "execution_count": 28,
   "metadata": {
    "collapsed": false
   },
   "outputs": [],
   "source": [
    "ca_discharges[\"dschyear\"] = ca_discharges[\"dschyear\"].astype(int)"
   ]
  },
  {
   "cell_type": "code",
   "execution_count": 29,
   "metadata": {
    "collapsed": false
   },
   "outputs": [],
   "source": [
    "assert(ca_discharges[\"oshpd_id\"].isin(ca_hospitals[\"oshpd_id\"]).mean() == 1)"
   ]
  },
  {
   "cell_type": "markdown",
   "metadata": {},
   "source": [
    "### Combine data"
   ]
  },
  {
   "cell_type": "code",
   "execution_count": 30,
   "metadata": {
    "collapsed": false
   },
   "outputs": [],
   "source": [
    "ca_discharges = pd.merge(\n",
    "    ca_discharges,\n",
    "    ca_hospitals[[ \"oshpd_id\", \"FAC_NAME\", \"Profit Status\", \"is_uhs\"]],\n",
    "    on=\"oshpd_id\",\n",
    "    how=\"left\"\n",
    ")"
   ]
  },
  {
   "cell_type": "markdown",
   "metadata": {},
   "source": [
    "### Classify insurance types"
   ]
  },
  {
   "cell_type": "code",
   "execution_count": 31,
   "metadata": {
    "collapsed": false
   },
   "outputs": [],
   "source": [
    "ca_discharges[\"insurance_type\"] = ca_discharges[\"pay_cat\"].apply({\n",
    "        \"01\": \"Medicare\",\n",
    "        \"02\": \"other public\",\n",
    "        \"03\": \"commercial\",\n",
    "        \"04\": \"other public\",\n",
    "        \"05\": \"other public\",\n",
    "        \"06\": \"other public\",\n",
    "        \"07\": \"other public\",\n",
    "        \"08\": \"self-pay\",\n",
    "        \"09\": \"other\",\n",
    "        \"00\": \"other\"\n",
    "}.get)\n",
    "assert(ca_discharges[\"insurance_type\"].isnull().mean() == 0)"
   ]
  },
  {
   "cell_type": "markdown",
   "metadata": {},
   "source": [
    "### Discharges by insurance type"
   ]
  },
  {
   "cell_type": "code",
   "execution_count": 32,
   "metadata": {
    "collapsed": false
   },
   "outputs": [
    {
     "data": {
      "text/html": [
       "<div>\n",
       "<table border=\"1\" class=\"dataframe\">\n",
       "  <thead>\n",
       "    <tr style=\"text-align: right;\">\n",
       "      <th></th>\n",
       "      <th>insurance_type</th>\n",
       "      <th>commercial</th>\n",
       "      <th>self-pay</th>\n",
       "      <th>Medicare</th>\n",
       "      <th>other public</th>\n",
       "      <th>other</th>\n",
       "    </tr>\n",
       "    <tr>\n",
       "      <th>Profit Status</th>\n",
       "      <th>is_uhs</th>\n",
       "      <th></th>\n",
       "      <th></th>\n",
       "      <th></th>\n",
       "      <th></th>\n",
       "      <th></th>\n",
       "    </tr>\n",
       "  </thead>\n",
       "  <tbody>\n",
       "    <tr>\n",
       "      <th rowspan=\"2\" valign=\"top\">For-Profit</th>\n",
       "      <th>False</th>\n",
       "      <td>39001</td>\n",
       "      <td>2251</td>\n",
       "      <td>23033</td>\n",
       "      <td>20433</td>\n",
       "      <td>899</td>\n",
       "    </tr>\n",
       "    <tr>\n",
       "      <th>True</th>\n",
       "      <td>48479</td>\n",
       "      <td>1057</td>\n",
       "      <td>13602</td>\n",
       "      <td>27499</td>\n",
       "      <td>5</td>\n",
       "    </tr>\n",
       "    <tr>\n",
       "      <th>Not-For-Profit</th>\n",
       "      <th>False</th>\n",
       "      <td>33664</td>\n",
       "      <td>3488</td>\n",
       "      <td>14440</td>\n",
       "      <td>26107</td>\n",
       "      <td>238</td>\n",
       "    </tr>\n",
       "  </tbody>\n",
       "</table>\n",
       "</div>"
      ],
      "text/plain": [
       "insurance_type         commercial  self-pay  Medicare  other public  other\n",
       "Profit Status  is_uhs                                                     \n",
       "For-Profit     False        39001      2251     23033         20433    899\n",
       "               True         48479      1057     13602         27499      5\n",
       "Not-For-Profit False        33664      3488     14440         26107    238"
      ]
     },
     "execution_count": 32,
     "metadata": {},
     "output_type": "execute_result"
    }
   ],
   "source": [
    "ca_discharges[\n",
    "    ca_discharges[\"Profit Status\"].isin([ \"For-Profit\", \"Not-For-Profit\" ])\n",
    "].groupby([ \"Profit Status\", \"is_uhs\", \"insurance_type\" ])\\\n",
    "    .size().unstack()[[\n",
    "        \"commercial\",\n",
    "        \"self-pay\",\n",
    "        \"Medicare\",\n",
    "        \"other public\",\n",
    "        \"other\"\n",
    "    ]]"
   ]
  },
  {
   "cell_type": "code",
   "execution_count": 33,
   "metadata": {
    "collapsed": true
   },
   "outputs": [],
   "source": [
    "ca_discharges[\"state\"] = \"CA\""
   ]
  },
  {
   "cell_type": "markdown",
   "metadata": {},
   "source": [
    "## Calculate discharge curves\n",
    "\n",
    "I.e., how many patients were discharged by day X?"
   ]
  },
  {
   "cell_type": "code",
   "execution_count": 34,
   "metadata": {
    "collapsed": true
   },
   "outputs": [],
   "source": [
    "def get_discharge_curve(df, max=20):\n",
    "    return (df[\"LOSDAYS\"].value_counts().sort_index().cumsum() / len(df))\\\n",
    "        .loc[range(max+1)]\\\n",
    "        .ffill().fillna(0)"
   ]
  },
  {
   "cell_type": "code",
   "execution_count": 35,
   "metadata": {
    "collapsed": true
   },
   "outputs": [],
   "source": [
    "def get_grouped_dc(df):\n",
    "    return df[\n",
    "        df[\"insurance_type\"].isin([ \"commercial\", \"self-pay\" ]) &\n",
    "        df[\"Profit Status\"].isin([ \"For-Profit\", \"Not-For-Profit\" ])\n",
    "    ].groupby([ \"Profit Status\", \"is_uhs\", \"insurance_type\" ])\\\n",
    "        .apply(get_discharge_curve)"
   ]
  },
  {
   "cell_type": "markdown",
   "metadata": {},
   "source": [
    "### Florida"
   ]
  },
  {
   "cell_type": "markdown",
   "metadata": {},
   "source": [
    "Below, we examine the demographic composition of commercial-insurance and self-pay patients. Self-paying patients are more likely to  be identified as homeless, and slightly more likely to be a racial or ethnic minority, than commercially-insured patients. The median and mean age for both groups are roughly the same, with self-paying patients being slightly older.\n",
    "\n",
    "For demographic code definitions, see [Florida's latest data dictionary](https://floridahealthfinderstore.blob.core.windows.net/documents/researchers/OrderData/documents/ED_%20AMB%20Data%20Layout%202015Q4%20March%202016.pdf)."
   ]
  },
  {
   "cell_type": "code",
   "execution_count": 36,
   "metadata": {
    "collapsed": true
   },
   "outputs": [],
   "source": [
    "fl_baker_act_discharges[\"race_is_white\"] = fl_baker_act_discharges[\"RACE\"] == 5\n",
    "fl_baker_act_discharges[\"ethnicity_is_hispanic\"] = fl_baker_act_discharges[\"ETHNICITY\"] == \"E1\"\n",
    "fl_baker_act_discharges[\"is_minority\"] = (~fl_baker_act_discharges[\"race_is_white\"]) | fl_baker_act_discharges[\"ethnicity_is_hispanic\"]\n",
    "fl_baker_act_discharges[\"is_homeless\"] = fl_baker_act_discharges[\"ZIPCODE\"] == \"7\""
   ]
  },
  {
   "cell_type": "code",
   "execution_count": 37,
   "metadata": {
    "collapsed": false
   },
   "outputs": [
    {
     "data": {
      "text/html": [
       "<div>\n",
       "<table border=\"1\" class=\"dataframe\">\n",
       "  <thead>\n",
       "    <tr style=\"text-align: right;\">\n",
       "      <th></th>\n",
       "      <th>mean_age</th>\n",
       "      <th>median_age</th>\n",
       "      <th>prop_hispanic</th>\n",
       "      <th>prop_homeless</th>\n",
       "      <th>prop_minority</th>\n",
       "      <th>prop_white</th>\n",
       "    </tr>\n",
       "    <tr>\n",
       "      <th>insurance_type</th>\n",
       "      <th></th>\n",
       "      <th></th>\n",
       "      <th></th>\n",
       "      <th></th>\n",
       "      <th></th>\n",
       "      <th></th>\n",
       "    </tr>\n",
       "  </thead>\n",
       "  <tbody>\n",
       "    <tr>\n",
       "      <th>Medicare</th>\n",
       "      <td>51.8</td>\n",
       "      <td>52</td>\n",
       "      <td>0.103</td>\n",
       "      <td>0.024</td>\n",
       "      <td>0.281</td>\n",
       "      <td>0.808</td>\n",
       "    </tr>\n",
       "    <tr>\n",
       "      <th>commercial</th>\n",
       "      <td>35.0</td>\n",
       "      <td>33</td>\n",
       "      <td>0.105</td>\n",
       "      <td>0.010</td>\n",
       "      <td>0.256</td>\n",
       "      <td>0.836</td>\n",
       "    </tr>\n",
       "    <tr>\n",
       "      <th>self-pay</th>\n",
       "      <td>35.7</td>\n",
       "      <td>34</td>\n",
       "      <td>0.081</td>\n",
       "      <td>0.038</td>\n",
       "      <td>0.274</td>\n",
       "      <td>0.796</td>\n",
       "    </tr>\n",
       "  </tbody>\n",
       "</table>\n",
       "</div>"
      ],
      "text/plain": [
       "                mean_age  median_age  prop_hispanic  prop_homeless  \\\n",
       "insurance_type                                                       \n",
       "Medicare            51.8          52          0.103          0.024   \n",
       "commercial          35.0          33          0.105          0.010   \n",
       "self-pay            35.7          34          0.081          0.038   \n",
       "\n",
       "                prop_minority  prop_white  \n",
       "insurance_type                             \n",
       "Medicare                0.281       0.808  \n",
       "commercial              0.256       0.836  \n",
       "self-pay                0.274       0.796  "
      ]
     },
     "execution_count": 37,
     "metadata": {},
     "output_type": "execute_result"
    }
   ],
   "source": [
    "grp = fl_baker_act_discharges[\n",
    "    fl_baker_act_discharges[\"insurance_type\"].isin([ \"commercial\", \"self-pay\", \"Medicare\" ]) &\n",
    "    fl_baker_act_discharges[\"Profit Status\"].isin([ \"For-Profit\", \"Not-For-Profit\" ])\n",
    "].groupby(\"insurance_type\")\n",
    "\n",
    "pd.DataFrame({\n",
    "    \"prop_white\": grp[\"race_is_white\"].mean(),\n",
    "    \"prop_hispanic\": grp[\"ethnicity_is_hispanic\"].mean(),\n",
    "    \"prop_minority\": grp[\"is_minority\"].mean(),\n",
    "    \"prop_homeless\": grp[\"is_homeless\"].mean(),\n",
    "    \"median_age\": grp[\"AGE\"].median(),\n",
    "    \"mean_age\": grp[\"AGE\"].mean().round(1),\n",
    "}).round(3)"
   ]
  },
  {
   "cell_type": "markdown",
   "metadata": {},
   "source": [
    "Overall discharge rates by hospital profit status and insurance type:"
   ]
  },
  {
   "cell_type": "code",
   "execution_count": 38,
   "metadata": {
    "collapsed": false
   },
   "outputs": [
    {
     "data": {
      "text/html": [
       "<div>\n",
       "<table border=\"1\" class=\"dataframe\">\n",
       "  <thead>\n",
       "    <tr>\n",
       "      <th>Profit Status</th>\n",
       "      <th colspan=\"4\" halign=\"left\">For-Profit</th>\n",
       "      <th colspan=\"2\" halign=\"left\">Not-For-Profit</th>\n",
       "    </tr>\n",
       "    <tr>\n",
       "      <th>is_uhs</th>\n",
       "      <th colspan=\"2\" halign=\"left\">False</th>\n",
       "      <th colspan=\"2\" halign=\"left\">True</th>\n",
       "      <th colspan=\"2\" halign=\"left\">False</th>\n",
       "    </tr>\n",
       "    <tr>\n",
       "      <th>insurance_type</th>\n",
       "      <th>commercial</th>\n",
       "      <th>self-pay</th>\n",
       "      <th>commercial</th>\n",
       "      <th>self-pay</th>\n",
       "      <th>commercial</th>\n",
       "      <th>self-pay</th>\n",
       "    </tr>\n",
       "    <tr>\n",
       "      <th>LOSDAYS</th>\n",
       "      <th></th>\n",
       "      <th></th>\n",
       "      <th></th>\n",
       "      <th></th>\n",
       "      <th></th>\n",
       "      <th></th>\n",
       "    </tr>\n",
       "  </thead>\n",
       "  <tbody>\n",
       "    <tr>\n",
       "      <th>0</th>\n",
       "      <td>0.008</td>\n",
       "      <td>0.012</td>\n",
       "      <td>0.000</td>\n",
       "      <td>0.000</td>\n",
       "      <td>0.015</td>\n",
       "      <td>0.014</td>\n",
       "    </tr>\n",
       "    <tr>\n",
       "      <th>1</th>\n",
       "      <td>0.060</td>\n",
       "      <td>0.119</td>\n",
       "      <td>0.046</td>\n",
       "      <td>0.151</td>\n",
       "      <td>0.127</td>\n",
       "      <td>0.129</td>\n",
       "    </tr>\n",
       "    <tr>\n",
       "      <th>2</th>\n",
       "      <td>0.164</td>\n",
       "      <td>0.333</td>\n",
       "      <td>0.149</td>\n",
       "      <td>0.338</td>\n",
       "      <td>0.323</td>\n",
       "      <td>0.320</td>\n",
       "    </tr>\n",
       "    <tr>\n",
       "      <th>3</th>\n",
       "      <td>0.300</td>\n",
       "      <td>0.533</td>\n",
       "      <td>0.297</td>\n",
       "      <td>0.551</td>\n",
       "      <td>0.522</td>\n",
       "      <td>0.510</td>\n",
       "    </tr>\n",
       "    <tr>\n",
       "      <th>4</th>\n",
       "      <td>0.439</td>\n",
       "      <td>0.670</td>\n",
       "      <td>0.449</td>\n",
       "      <td>0.691</td>\n",
       "      <td>0.658</td>\n",
       "      <td>0.641</td>\n",
       "    </tr>\n",
       "  </tbody>\n",
       "</table>\n",
       "</div>"
      ],
      "text/plain": [
       "Profit Status  For-Profit                              Not-For-Profit         \n",
       "is_uhs              False               True                    False         \n",
       "insurance_type commercial self-pay commercial self-pay     commercial self-pay\n",
       "LOSDAYS                                                                       \n",
       "0                   0.008    0.012      0.000    0.000          0.015    0.014\n",
       "1                   0.060    0.119      0.046    0.151          0.127    0.129\n",
       "2                   0.164    0.333      0.149    0.338          0.323    0.320\n",
       "3                   0.300    0.533      0.297    0.551          0.522    0.510\n",
       "4                   0.439    0.670      0.449    0.691          0.658    0.641"
      ]
     },
     "execution_count": 38,
     "metadata": {},
     "output_type": "execute_result"
    }
   ],
   "source": [
    "fl_discharge_curves = get_grouped_dc(fl_baker_act_discharges)\n",
    "fl_discharge_curves.T.head().round(3)"
   ]
  },
  {
   "cell_type": "markdown",
   "metadata": {},
   "source": [
    "Limited to MS-DRG 885 (\"psychoses\"), the differences remain:"
   ]
  },
  {
   "cell_type": "code",
   "execution_count": 39,
   "metadata": {
    "collapsed": false
   },
   "outputs": [
    {
     "data": {
      "text/html": [
       "<div>\n",
       "<table border=\"1\" class=\"dataframe\">\n",
       "  <thead>\n",
       "    <tr>\n",
       "      <th>Profit Status</th>\n",
       "      <th colspan=\"4\" halign=\"left\">For-Profit</th>\n",
       "      <th colspan=\"2\" halign=\"left\">Not-For-Profit</th>\n",
       "    </tr>\n",
       "    <tr>\n",
       "      <th>is_uhs</th>\n",
       "      <th colspan=\"2\" halign=\"left\">False</th>\n",
       "      <th colspan=\"2\" halign=\"left\">True</th>\n",
       "      <th colspan=\"2\" halign=\"left\">False</th>\n",
       "    </tr>\n",
       "    <tr>\n",
       "      <th>insurance_type</th>\n",
       "      <th>commercial</th>\n",
       "      <th>self-pay</th>\n",
       "      <th>commercial</th>\n",
       "      <th>self-pay</th>\n",
       "      <th>commercial</th>\n",
       "      <th>self-pay</th>\n",
       "    </tr>\n",
       "    <tr>\n",
       "      <th>LOSDAYS</th>\n",
       "      <th></th>\n",
       "      <th></th>\n",
       "      <th></th>\n",
       "      <th></th>\n",
       "      <th></th>\n",
       "      <th></th>\n",
       "    </tr>\n",
       "  </thead>\n",
       "  <tbody>\n",
       "    <tr>\n",
       "      <th>0</th>\n",
       "      <td>0.005</td>\n",
       "      <td>0.007</td>\n",
       "      <td>0.000</td>\n",
       "      <td>0.000</td>\n",
       "      <td>0.008</td>\n",
       "      <td>0.010</td>\n",
       "    </tr>\n",
       "    <tr>\n",
       "      <th>1</th>\n",
       "      <td>0.042</td>\n",
       "      <td>0.080</td>\n",
       "      <td>0.035</td>\n",
       "      <td>0.106</td>\n",
       "      <td>0.098</td>\n",
       "      <td>0.095</td>\n",
       "    </tr>\n",
       "    <tr>\n",
       "      <th>2</th>\n",
       "      <td>0.132</td>\n",
       "      <td>0.269</td>\n",
       "      <td>0.127</td>\n",
       "      <td>0.277</td>\n",
       "      <td>0.283</td>\n",
       "      <td>0.253</td>\n",
       "    </tr>\n",
       "    <tr>\n",
       "      <th>3</th>\n",
       "      <td>0.265</td>\n",
       "      <td>0.474</td>\n",
       "      <td>0.269</td>\n",
       "      <td>0.494</td>\n",
       "      <td>0.474</td>\n",
       "      <td>0.435</td>\n",
       "    </tr>\n",
       "    <tr>\n",
       "      <th>4</th>\n",
       "      <td>0.403</td>\n",
       "      <td>0.618</td>\n",
       "      <td>0.411</td>\n",
       "      <td>0.637</td>\n",
       "      <td>0.610</td>\n",
       "      <td>0.563</td>\n",
       "    </tr>\n",
       "  </tbody>\n",
       "</table>\n",
       "</div>"
      ],
      "text/plain": [
       "Profit Status  For-Profit                              Not-For-Profit         \n",
       "is_uhs              False               True                    False         \n",
       "insurance_type commercial self-pay commercial self-pay     commercial self-pay\n",
       "LOSDAYS                                                                       \n",
       "0                   0.005    0.007      0.000    0.000          0.008    0.010\n",
       "1                   0.042    0.080      0.035    0.106          0.098    0.095\n",
       "2                   0.132    0.269      0.127    0.277          0.283    0.253\n",
       "3                   0.265    0.474      0.269    0.494          0.474    0.435\n",
       "4                   0.403    0.618      0.411    0.637          0.610    0.563"
      ]
     },
     "execution_count": 39,
     "metadata": {},
     "output_type": "execute_result"
    }
   ],
   "source": [
    "get_grouped_dc(fl_baker_act_discharges[\n",
    "    fl_baker_act_discharges[\"MSDRG\"] == 885\n",
    "]).T.head().round(3)"
   ]
  },
  {
   "cell_type": "markdown",
   "metadata": {},
   "source": [
    "### California"
   ]
  },
  {
   "cell_type": "markdown",
   "metadata": {},
   "source": [
    "Looking at the overall discharge rates by hospital profit status and insurance type, we see a similar pattern as in Florida:"
   ]
  },
  {
   "cell_type": "code",
   "execution_count": 40,
   "metadata": {
    "collapsed": false
   },
   "outputs": [
    {
     "data": {
      "text/html": [
       "<div>\n",
       "<table border=\"1\" class=\"dataframe\">\n",
       "  <thead>\n",
       "    <tr>\n",
       "      <th>Profit Status</th>\n",
       "      <th colspan=\"4\" halign=\"left\">For-Profit</th>\n",
       "      <th colspan=\"2\" halign=\"left\">Not-For-Profit</th>\n",
       "    </tr>\n",
       "    <tr>\n",
       "      <th>is_uhs</th>\n",
       "      <th colspan=\"2\" halign=\"left\">False</th>\n",
       "      <th colspan=\"2\" halign=\"left\">True</th>\n",
       "      <th colspan=\"2\" halign=\"left\">False</th>\n",
       "    </tr>\n",
       "    <tr>\n",
       "      <th>insurance_type</th>\n",
       "      <th>commercial</th>\n",
       "      <th>self-pay</th>\n",
       "      <th>commercial</th>\n",
       "      <th>self-pay</th>\n",
       "      <th>commercial</th>\n",
       "      <th>self-pay</th>\n",
       "    </tr>\n",
       "    <tr>\n",
       "      <th>LOSDAYS</th>\n",
       "      <th></th>\n",
       "      <th></th>\n",
       "      <th></th>\n",
       "      <th></th>\n",
       "      <th></th>\n",
       "      <th></th>\n",
       "    </tr>\n",
       "  </thead>\n",
       "  <tbody>\n",
       "    <tr>\n",
       "      <th>0</th>\n",
       "      <td>0.004</td>\n",
       "      <td>0.076</td>\n",
       "      <td>0.007</td>\n",
       "      <td>0.021</td>\n",
       "      <td>0.010</td>\n",
       "      <td>0.017</td>\n",
       "    </tr>\n",
       "    <tr>\n",
       "      <th>1</th>\n",
       "      <td>0.045</td>\n",
       "      <td>0.272</td>\n",
       "      <td>0.041</td>\n",
       "      <td>0.141</td>\n",
       "      <td>0.066</td>\n",
       "      <td>0.109</td>\n",
       "    </tr>\n",
       "    <tr>\n",
       "      <th>2</th>\n",
       "      <td>0.156</td>\n",
       "      <td>0.429</td>\n",
       "      <td>0.156</td>\n",
       "      <td>0.336</td>\n",
       "      <td>0.176</td>\n",
       "      <td>0.240</td>\n",
       "    </tr>\n",
       "    <tr>\n",
       "      <th>3</th>\n",
       "      <td>0.344</td>\n",
       "      <td>0.610</td>\n",
       "      <td>0.364</td>\n",
       "      <td>0.528</td>\n",
       "      <td>0.334</td>\n",
       "      <td>0.390</td>\n",
       "    </tr>\n",
       "    <tr>\n",
       "      <th>4</th>\n",
       "      <td>0.492</td>\n",
       "      <td>0.728</td>\n",
       "      <td>0.494</td>\n",
       "      <td>0.654</td>\n",
       "      <td>0.492</td>\n",
       "      <td>0.506</td>\n",
       "    </tr>\n",
       "  </tbody>\n",
       "</table>\n",
       "</div>"
      ],
      "text/plain": [
       "Profit Status  For-Profit                              Not-For-Profit         \n",
       "is_uhs              False               True                    False         \n",
       "insurance_type commercial self-pay commercial self-pay     commercial self-pay\n",
       "LOSDAYS                                                                       \n",
       "0                   0.004    0.076      0.007    0.021          0.010    0.017\n",
       "1                   0.045    0.272      0.041    0.141          0.066    0.109\n",
       "2                   0.156    0.429      0.156    0.336          0.176    0.240\n",
       "3                   0.344    0.610      0.364    0.528          0.334    0.390\n",
       "4                   0.492    0.728      0.494    0.654          0.492    0.506"
      ]
     },
     "execution_count": 40,
     "metadata": {},
     "output_type": "execute_result"
    }
   ],
   "source": [
    "ca_discharge_curves = get_grouped_dc(ca_discharges)\n",
    "ca_discharge_curves.T.head().round(3)"
   ]
  },
  {
   "cell_type": "markdown",
   "metadata": {},
   "source": [
    "Likewise when limited to MS-DRG 885:"
   ]
  },
  {
   "cell_type": "code",
   "execution_count": 41,
   "metadata": {
    "collapsed": false
   },
   "outputs": [
    {
     "data": {
      "text/html": [
       "<div>\n",
       "<table border=\"1\" class=\"dataframe\">\n",
       "  <thead>\n",
       "    <tr>\n",
       "      <th>Profit Status</th>\n",
       "      <th colspan=\"4\" halign=\"left\">For-Profit</th>\n",
       "      <th colspan=\"2\" halign=\"left\">Not-For-Profit</th>\n",
       "    </tr>\n",
       "    <tr>\n",
       "      <th>is_uhs</th>\n",
       "      <th colspan=\"2\" halign=\"left\">False</th>\n",
       "      <th colspan=\"2\" halign=\"left\">True</th>\n",
       "      <th colspan=\"2\" halign=\"left\">False</th>\n",
       "    </tr>\n",
       "    <tr>\n",
       "      <th>insurance_type</th>\n",
       "      <th>commercial</th>\n",
       "      <th>self-pay</th>\n",
       "      <th>commercial</th>\n",
       "      <th>self-pay</th>\n",
       "      <th>commercial</th>\n",
       "      <th>self-pay</th>\n",
       "    </tr>\n",
       "    <tr>\n",
       "      <th>LOSDAYS</th>\n",
       "      <th></th>\n",
       "      <th></th>\n",
       "      <th></th>\n",
       "      <th></th>\n",
       "      <th></th>\n",
       "      <th></th>\n",
       "    </tr>\n",
       "  </thead>\n",
       "  <tbody>\n",
       "    <tr>\n",
       "      <th>0</th>\n",
       "      <td>0.004</td>\n",
       "      <td>0.091</td>\n",
       "      <td>0.005</td>\n",
       "      <td>0.012</td>\n",
       "      <td>0.008</td>\n",
       "      <td>0.013</td>\n",
       "    </tr>\n",
       "    <tr>\n",
       "      <th>1</th>\n",
       "      <td>0.038</td>\n",
       "      <td>0.306</td>\n",
       "      <td>0.031</td>\n",
       "      <td>0.123</td>\n",
       "      <td>0.058</td>\n",
       "      <td>0.092</td>\n",
       "    </tr>\n",
       "    <tr>\n",
       "      <th>2</th>\n",
       "      <td>0.136</td>\n",
       "      <td>0.456</td>\n",
       "      <td>0.128</td>\n",
       "      <td>0.310</td>\n",
       "      <td>0.174</td>\n",
       "      <td>0.228</td>\n",
       "    </tr>\n",
       "    <tr>\n",
       "      <th>3</th>\n",
       "      <td>0.312</td>\n",
       "      <td>0.633</td>\n",
       "      <td>0.330</td>\n",
       "      <td>0.511</td>\n",
       "      <td>0.336</td>\n",
       "      <td>0.388</td>\n",
       "    </tr>\n",
       "    <tr>\n",
       "      <th>4</th>\n",
       "      <td>0.450</td>\n",
       "      <td>0.734</td>\n",
       "      <td>0.463</td>\n",
       "      <td>0.642</td>\n",
       "      <td>0.474</td>\n",
       "      <td>0.497</td>\n",
       "    </tr>\n",
       "  </tbody>\n",
       "</table>\n",
       "</div>"
      ],
      "text/plain": [
       "Profit Status  For-Profit                              Not-For-Profit         \n",
       "is_uhs              False               True                    False         \n",
       "insurance_type commercial self-pay commercial self-pay     commercial self-pay\n",
       "LOSDAYS                                                                       \n",
       "0                   0.004    0.091      0.005    0.012          0.008    0.013\n",
       "1                   0.038    0.306      0.031    0.123          0.058    0.092\n",
       "2                   0.136    0.456      0.128    0.310          0.174    0.228\n",
       "3                   0.312    0.633      0.330    0.511          0.336    0.388\n",
       "4                   0.450    0.734      0.463    0.642          0.474    0.497"
      ]
     },
     "execution_count": 41,
     "metadata": {},
     "output_type": "execute_result"
    }
   ],
   "source": [
    "get_grouped_dc(ca_discharges[\n",
    "    ca_discharges[\"MSDRG\"] == 885\n",
    "]).T.head().round(3)"
   ]
  },
  {
   "cell_type": "markdown",
   "metadata": {},
   "source": [
    "---\n",
    "\n",
    "---\n",
    "\n",
    "---"
   ]
  }
 ],
 "metadata": {
  "kernelspec": {
   "display_name": "Python 3",
   "language": "python",
   "name": "python3"
  },
  "language_info": {
   "codemirror_mode": {
    "name": "ipython",
    "version": 3
   },
   "file_extension": ".py",
   "mimetype": "text/x-python",
   "name": "python",
   "nbconvert_exporter": "python",
   "pygments_lexer": "ipython3",
   "version": "3.4.3"
  }
 },
 "nbformat": 4,
 "nbformat_minor": 1
}
